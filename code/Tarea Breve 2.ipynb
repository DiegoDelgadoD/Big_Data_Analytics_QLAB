{
 "cells": [
  {
   "cell_type": "markdown",
   "id": "173db423",
   "metadata": {},
   "source": [
    "# Tarea breve 2\n",
    "\n",
    "## Diplomado en Ciencia de Datos para las Ciencias Sociales y las Políticas Públicas.\n",
    "\n",
    "#### Integrantes\n",
    "- Alvaro Zapata\n",
    "- Diego Delgado\n"
   ]
  },
  {
   "cell_type": "markdown",
   "id": "4e5b54fd",
   "metadata": {},
   "source": [
    "## Parte I\n",
    "#### 1. ¿Qué es un proceso embarrassingly parallel y uno inherentemente serial? Dé un ejemplo de cada uno (distintos a los vistos en clase)\n",
    "\n",
    "Un proceso embarrassingly parallel consiste en ejecutar tareas que pueden dividirse en partes independientes sin necesidad de comunicación entre ellas, como el procesamiento de imágenes en un gran conjunto de fotos. Por el contrario, un proceso inherentemente serial requiere una ejecución secuencial específica, como la ejecución de un algoritmo donde cada paso depende del resultado del paso anterior.\n",
    "\n",
    "\n"
   ]
  },
  {
   "cell_type": "markdown",
   "id": "ccb5d645",
   "metadata": {},
   "source": [
    "#### 2. ¿Cuáles son los dos principales cuellos de botella al paralelizar un proceso? Explíquelo a partir de las leyes de Amdahl y Gustafson \n",
    "\n",
    "Los principales cuellos de botella son la porción serial del programa, según la Ley de Amdahl, y la eficiencia de la paralelización que disminuye con el aumento de la porción paralelizable, según la Ley de Gustafson. La Ley de Amdahl dice que el tiempo de ejecución está limitado por la parte no paralelizable del programa, mientras que la Ley de Gustafson se enfoca en cómo la escalabilidad se ve afectada por la eficiencia de la paralelización.\n",
    "\n"
   ]
  },
  {
   "cell_type": "markdown",
   "id": "fe781aa9",
   "metadata": {},
   "source": [
    "#### 3. Describa los recursos (CPU y GPU) de su computadora y provea evidencia (ie. screenshot). \n",
    "No tengo GPU solo CPU.\n",
    "\n",
    "\n",
    " \n",
    "\n"
   ]
  },
  {
   "cell_type": "markdown",
   "id": "dfa3ae10",
   "metadata": {},
   "source": [
    "#### 4. ¿En qué se diferencia un CPU de un GPU? Dé un ejemplo de un proceso que convendría paralelizar en cada uno de estos tipos de unidad de procesamiento. \n",
    "\n",
    "Un CPU está diseñado para realizar una amplia gama de tareas y es adecuado para operaciones seriales, como la ejecución de un navegador web. En cambio, un GPU está optimizado para tareas paralelas, como el renderizado de gráficos en videojuegos. Por ejemplo, sería optimo paralelizar el procesamiento gráfico (como videojuegos) en un GPU, mientras que la ejecución de algoritmos de búsqueda sería adecuada para un CPU.\n",
    "\n",
    "\n"
   ]
  },
  {
   "cell_type": "markdown",
   "id": "ff28600e",
   "metadata": {},
   "source": [
    "#### 5. Se sabe estima que la nueva memoria RAM POWER 3000 permitirá acelerar las operaciones de su computadora en la mitad del tiempo. ¿Qué tanto más rápido será la velocidad de ejecución de un programa si el 77% del mismo se dedica a operaciones inherentemente paralelizables?\n",
    "\n",
    "Si el 77% de un programa es paralelizable y la nueva memoria permite acelerar las operaciones a la mitad del tiempo, la aceleración total del programa se puede estimar usando la Ley de Amdahl.\n",
    "S=1/((1-P)+P/N)\n",
    "Donde P es la fracción paralelizable y N es el factor de aceleración de la memoria.\n",
    "S=1/((1-0.77)+0.77/2)≈1.85\n",
    "\n"
   ]
  },
  {
   "cell_type": "markdown",
   "id": "19816c3f",
   "metadata": {},
   "source": [
    "#### 6. Piense en una tarea serial que le han encargado paralelizar. Describa el diseño de la implementación en paralelo de dicha tarea siguiente el método de Foster y los cuatro elementos que lo componen.\n",
    "\n",
    "Si por ejemplo queremos ordenar una lista larga, se puede usar método de Foster. Primero, se puede dividir la lista en sublistas más pequeñas. Luego, se le asigna estas sublistas a diferentes procesadores. Despues, calcular la ordenación de las sublistas en paralelo. El último paso sería combinar las sublistas ordenadas en una lista final ordenada.\n",
    "\n"
   ]
  },
  {
   "cell_type": "markdown",
   "id": "0f4fcbf6",
   "metadata": {},
   "source": [
    "#### 7. ¿Cuál es la diferencia entre point-to-point communication y collective communication en MPI? ¿Cuál es la diferencia entre las operaciones de broadcasting, gathering y scattering?\n",
    "\n",
    "La comunicación point-to-point implica la transferencia de datos entre dos procesos individuales específicos, utilizando funciones como `MPI_Send` y `MPI_Recv`. En cambio, la comunicación colectiva involucra a todos los procesos de un grupo y utiliza operaciones como `MPI_Bcast`, `MPI_Gather` y `MPI_Scatter`, que afectan a todos los procesos simultáneamente. Broadcasting (`MPI_Bcast`) permite que un proceso envíe el mismo dato a todos los demás procesos, gathering (`MPI_Gather`) permite que cada proceso envíe sus diferentes datos al proceso raíz para consolidarlos, y scattering (`MPI_Scatter`), lo contrario al Gather, distribuye segmentos desde el proceso raíz a los demás procesos para procesamiento paralelo."
   ]
  },
  {
   "cell_type": "markdown",
   "id": "1264a5f9",
   "metadata": {},
   "source": [
    "## Parte II\n",
    "### 1. Código de paralelización de impresión de listas\n",
    "\n",
    "#### a y b. Generamso el código y lo ejecutamos en diferentes procesadores "
   ]
  },
  {
   "cell_type": "code",
   "execution_count": 26,
   "id": "b0e0d8e3",
   "metadata": {},
   "outputs": [],
   "source": [
    "#!pip install mpi4py\n",
    "import os\n",
    "\n",
    "os.chdir(r'C:\\Users\\DDelgado\\Documents\\GitHub\\Big_Data_Analytics_QLAB\\code')"
   ]
  },
  {
   "cell_type": "code",
   "execution_count": 37,
   "id": "9bda3ab4",
   "metadata": {},
   "outputs": [
    {
     "name": "stdout",
     "output_type": "stream",
     "text": [
      "Overwriting parte2_1.py\n"
     ]
    }
   ],
   "source": [
    "%%writefile parte2_1.py\n",
    "from mpi4py import MPI\n",
    "\n",
    "\n",
    "comm = MPI.COMM_WORLD\n",
    "rank = comm.Get_rank()\n",
    "size = comm.Get_size()\n",
    "\n",
    "if rank == 0:\n",
    "    # Procesador 0 genera la lista y la envía a los otros 3 procesadores\n",
    "    data = list(range(10))  # Lista de ejemplo\n",
    "    for i in range(1, 4):\n",
    "        comm.send(data, dest=i, tag=11)\n",
    "        print(f\"Procesador 0 envió la lista al procesador {i}\")\n",
    "elif rank != 0:\n",
    "    # Procesadores 1, 2 y 3 reciben la lista y la imprimen\n",
    "    data = comm.recv(source=0, tag=11)\n",
    "    print(f\"Procesador {rank} recibió la lista: {data}\")"
   ]
  },
  {
   "cell_type": "code",
   "execution_count": 38,
   "id": "3d59e888",
   "metadata": {},
   "outputs": [
    {
     "name": "stdout",
     "output_type": "stream",
     "text": [
      "Procesador 1 recibió la lista: [0, 1, 2, 3, 4, 5, 6, 7, 8, 9]\n",
      "Procesador 0 envió la lista al procesador 1\n",
      "Procesador 0 envió la lista al procesador 2\n",
      "Procesador 0 envió la lista al procesador 3\n",
      "Procesador 2 recibió la lista: [0, 1, 2, 3, 4, 5, 6, 7, 8, 9]\n",
      "Procesador 3 recibió la lista: [0, 1, 2, 3, 4, 5, 6, 7, 8, 9]\n"
     ]
    }
   ],
   "source": [
    "!mpiexec -n 4 python parte2_1.py"
   ]
  },
  {
   "cell_type": "markdown",
   "id": "1b18049b",
   "metadata": {},
   "source": [
    "##### c. De ejecutar el código 100 veces, ¿el orden de los resultados será siempre igual? ¿Por qué?\n",
    "De ejecutar el código 100 veces, el orden de los resultados no será siempre igual. Esto se debe a que, aunque el procesador 0 envía los mensajes en un orden específico, la recepción e impresión de los mensajes por parte de los otros procesadores puede ocurrir en un orden no determinista. El entorno de MPI y la planificación del sistema operativo pueden hacer que los procesadores 1, 2 y 3 reciban y ejecuten las instrucciones de impresión en diferentes órdenes en distintas ejecuciones."
   ]
  },
  {
   "cell_type": "markdown",
   "id": "3b56967b",
   "metadata": {},
   "source": [
    "### 2. Broadcasting y scattering\n",
    "\n",
    "Escribimos un código que haga lo siguiente:\n",
    "\n",
    "**Parte a: Broadcasting:**\n",
    "\n",
    "- El procesador 0 define el diccionario cursos_favoritos.\n",
    "- Usamos comm.bcast para transmitir el diccionario a todos los procesadores.\n",
    "- Registramos y comparamos el tiempo de demora en cada procesador.\n",
    "\n",
    "**Parte b: Scattering:**\n",
    "\n",
    "- El procesador 0 define una secuencia de valores valores que va de 0 a size - 1.\n",
    "- Usamos comm.Scatter para distribuir estos valores entre los procesadores.\n",
    "- Cada procesador recibe un valor y comprueba si coincide con su rango (rank)."
   ]
  },
  {
   "cell_type": "code",
   "execution_count": 43,
   "id": "b516c41b",
   "metadata": {},
   "outputs": [
    {
     "name": "stdout",
     "output_type": "stream",
     "text": [
      "Overwriting mpi_broadcast_scatter.py\n"
     ]
    }
   ],
   "source": [
    "%%writefile parte2_2.py\n",
    "\n",
    "from mpi4py import MPI\n",
    "import numpy as np\n",
    "import time\n",
    "\n",
    "comm = MPI.COMM_WORLD\n",
    "rank = comm.Get_rank()\n",
    "size = comm.Get_size()\n",
    "\n",
    "# Parte a: Broadcasting\n",
    "cursos_favoritos = {\n",
    "    0: \"Econometría avanzada\",\n",
    "    1: \"Introduccion al Machine Learning\",\n",
    "    2: \"Estadística\",\n",
    "    3: \"Python Intermedio\"\n",
    "}\n",
    "\n",
    "# Solo el procesador 0 define el diccionario\n",
    "if rank == 0:\n",
    "    data = cursos_favoritos\n",
    "else:\n",
    "    data = None\n",
    "\n",
    "# Registrar el tiempo antes del broadcasting\n",
    "start_time = time.time()\n",
    "\n",
    "# Broadcasting del diccionario\n",
    "data = comm.bcast(data, root=0)\n",
    "\n",
    "# Registrar el tiempo después del broadcasting\n",
    "end_time = time.time()\n",
    "broadcast_time = end_time - start_time\n",
    "\n",
    "# Imprimir el diccionario recibido y el tiempo de demora en cada procesador\n",
    "print(f\"Procesador {rank} recibió el diccionario: {data} en {broadcast_time:.6f} segundos\")\n",
    "\n",
    "# Parte b: Scattering\n",
    "# Definir una secuencia de valores {0, 1, 2, ..., n}\n",
    "if rank == 0:\n",
    "    valores = np.arange(size, dtype='i')\n",
    "else:\n",
    "    valores = None\n",
    "\n",
    "# Preparar un array para recibir el valor dispersado\n",
    "valor_recibido = np.zeros(1, dtype='i')\n",
    "\n",
    "# Dispersar los valores\n",
    "comm.Scatter(valores, valor_recibido, root=0)\n",
    "\n",
    "# Imprimir el valor recibido y comprobar si coincide con el rango del procesador\n",
    "print(f\"Procesador {rank} recibió el valor {valor_recibido[0]}. Coincide con el rango: {valor_recibido[0] == rank}\")\n"
   ]
  },
  {
   "cell_type": "markdown",
   "id": "9bf172d4",
   "metadata": {},
   "source": [
    "Ejecutamos el broadcasting:"
   ]
  },
  {
   "cell_type": "code",
   "execution_count": 42,
   "id": "aa2fabd5",
   "metadata": {},
   "outputs": [
    {
     "name": "stdout",
     "output_type": "stream",
     "text": [
      "Procesador 0 recibió el diccionario: {0: 'Econometría avanzada', 1: 'Introduccion al Machine Learning', 2: 'Estadística', 3: 'Python Intermedio'} en 0.001029 segundos\n",
      "Procesador 0 recibió el valor 0. Coincide con el rango: True\n",
      "Procesador 1 recibió el diccionario: {0: 'Econometría avanzada', 1: 'Introduccion al Machine Learning', 2: 'Estadística', 3: 'Python Intermedio'} en 0.000000 segundos\n",
      "Procesador 1 recibió el valor 1. Coincide con el rango: True\n",
      "Procesador 3 recibió el diccionario: {0: 'Econometría avanzada', 1: 'Introduccion al Machine Learning', 2: 'Estadística', 3: 'Python Intermedio'} en 0.003033 segundos\n",
      "Procesador 3 recibió el valor 3. Coincide con el rango: True\n",
      "Procesador 2 recibió el diccionario: {0: 'Econometría avanzada', 1: 'Introduccion al Machine Learning', 2: 'Estadística', 3: 'Python Intermedio'} en 0.002033 segundos\n",
      "Procesador 2 recibió el valor 2. Coincide con el rango: True\n"
     ]
    }
   ],
   "source": [
    "!mpiexec -n 4 python parte2_2.py\n"
   ]
  },
  {
   "cell_type": "markdown",
   "id": "78aa39ae",
   "metadata": {},
   "source": [
    "### 3. Análisis de estadísiticas de array\n",
    "\n",
    "#### a. Definir numpy"
   ]
  },
  {
   "cell_type": "code",
   "execution_count": 53,
   "id": "f8b6c308",
   "metadata": {},
   "outputs": [
    {
     "name": "stdout",
     "output_type": "stream",
     "text": [
      "Valor máximo usando un solo procesador: 99.74206107\n",
      "Tiempo de demora: 0.000552 segundos\n"
     ]
    }
   ],
   "source": [
    "import numpy as np\n",
    "import pandas as pd\n",
    "import time\n",
    "\n",
    "# Cargar el archivo CSV\n",
    "data = pd.read_csv(r'../data/tarea2.csv')\n",
    "values = data.to_numpy()\n",
    "\n",
    "# Registrar el tiempo antes de encontrar el máximo\n",
    "start_time = time.time()\n",
    "\n",
    "# Hallar el valor máximo\n",
    "max_value = np.max(values)\n",
    "\n",
    "# Registrar el tiempo después de encontrar el máximo\n",
    "end_time = time.time()\n",
    "single_processor_time = end_time - start_time\n",
    "\n",
    "print(f\"Valor máximo usando un solo procesador: {max_value}\")\n",
    "print(f\"Tiempo de demora: {single_processor_time:.6f} segundos\")\n"
   ]
  },
  {
   "cell_type": "markdown",
   "id": "1666cbfc",
   "metadata": {},
   "source": [
    "#### b. Paralelizacion de cálculo de stats\n",
    "\n",
    "El código a continuación realiza lo siguiente:\n",
    "\n",
    "- (i) dividir el numpy en dos partes iguales\n",
    "- (ii) que dos procesadores distintos encuentren el máximo de cada parte \n",
    "- (iii) que otro procesador junte los máximos hallados y encuentre el máximo global. Registrar el tiempo de demora."
   ]
  },
  {
   "cell_type": "code",
   "execution_count": 61,
   "id": "1a3d10aa",
   "metadata": {},
   "outputs": [
    {
     "name": "stdout",
     "output_type": "stream",
     "text": [
      "Overwriting parte2_3a.py\n"
     ]
    }
   ],
   "source": [
    "%%writefile parte2_3a.py\n",
    "\n",
    "from mpi4py import MPI\n",
    "import numpy as np\n",
    "import pandas as pd\n",
    "import time\n",
    "\n",
    "comm = MPI.COMM_WORLD\n",
    "rank = comm.Get_rank()\n",
    "size = comm.Get_size()\n",
    "\n",
    "# Solo se necesitan 3 procesadores para esta tarea\n",
    "if size != 3:\n",
    "    raise ValueError(\"Este programa requiere exactamente 3 procesadores.\")\n",
    "\n",
    "# Cargar el archivo CSV y dividir los datos en dos partes\n",
    "if rank == 0:\n",
    "    data = pd.read_csv(r'../data/tarea2.csv')\n",
    "    values = data.to_numpy()\n",
    "    part1 = values[:len(values) // 2]\n",
    "    part2 = values[len(values) // 2:]\n",
    "else:\n",
    "    part1 = None\n",
    "    part2 = None\n",
    "\n",
    "# Broadcasting de las partes\n",
    "part1 = comm.bcast(part1, root=0)\n",
    "part2 = comm.bcast(part2, root=0)\n",
    "\n",
    "# Hallar el máximo en cada parte\n",
    "if rank == 1:\n",
    "    local_max = np.max(part1)\n",
    "    print(f\"Procesador {rank} encontró el máximo local: {local_max}\")\n",
    "elif rank == 2:\n",
    "    local_max = np.max(part2)\n",
    "    print(f\"Procesador {rank} encontró el máximo local: {local_max}\")\n",
    "else:\n",
    "    local_max = None\n",
    "\n",
    "# Asegurarse de que local_max no sea None\n",
    "if local_max is None:\n",
    "    raise ValueError(f\"Procesador {rank} no calculó un máximo local válido.\")\n",
    "\n",
    "# El procesador 0 reúne los máximos hallados y encuentra el máximo global\n",
    "global_max = comm.reduce(local_max, op=MPI.MAX, root=0)\n",
    "\n",
    "if rank == 0:\n",
    "    end_time = time.time()\n",
    "    print(f\"Valor máximo usando dos procesadores: {global_max}\")\n",
    "    print(f\"Tiempo de demora: {end_time - start_time:.6f} segundos\")"
   ]
  },
  {
   "cell_type": "code",
   "execution_count": 62,
   "id": "b7692654",
   "metadata": {},
   "outputs": [
    {
     "name": "stdout",
     "output_type": "stream",
     "text": [
      "^C\n"
     ]
    }
   ],
   "source": [
    "!mpiexec -n 3 python parte2_3a.py\n"
   ]
  }
 ],
 "metadata": {
  "kernelspec": {
   "display_name": "Python 3 (ipykernel)",
   "language": "python",
   "name": "python3"
  },
  "language_info": {
   "codemirror_mode": {
    "name": "ipython",
    "version": 3
   },
   "file_extension": ".py",
   "mimetype": "text/x-python",
   "name": "python",
   "nbconvert_exporter": "python",
   "pygments_lexer": "ipython3",
   "version": "3.9.13"
  }
 },
 "nbformat": 4,
 "nbformat_minor": 5
}
